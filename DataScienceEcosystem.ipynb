{
 "cells": [
  {
   "cell_type": "markdown",
   "id": "fee6706c-4659-4c2a-955d-8392ff1ba2cb",
   "metadata": {},
   "source": [
    "# Data Science Tools and Ecosystem"
   ]
  },
  {
   "cell_type": "markdown",
   "id": "c104195f-80a5-4718-8987-ab40b6945bac",
   "metadata": {},
   "source": [
    "In this notebook, Data Science Tools and Ecosystem are summarized."
   ]
  },
  {
   "cell_type": "markdown",
   "id": "26242d9f-5158-469c-80cd-115f6a9f962b",
   "metadata": {},
   "source": [
    "Some of the popular languages that Data Scientists use are:\n",
    "1. Python\n",
    "2. R\n",
    "3. Scala"
   ]
  },
  {
   "cell_type": "markdown",
   "id": "cdfa2302-e27a-4cd8-a4b6-6b30ce949c71",
   "metadata": {},
   "source": [
    "Some of the commonly used libraries used by Data Scientists include:\n",
    "1. Matplotlib\n",
    "2. NumPy\n",
    "3. Pandas\n",
    "4. Keras"
   ]
  },
  {
   "cell_type": "markdown",
   "id": "4eb0d8d5-68a1-403b-8dd5-69d789eed0c1",
   "metadata": {},
   "source": [
    "|Data Science Tools|\n",
    "|R Studio|\n",
    "|Scikit-learn|\n",
    "|Tensor Flow|"
   ]
  },
  {
   "cell_type": "markdown",
   "id": "951f52ee-88c1-4909-98de-166b1574bc9d",
   "metadata": {},
   "source": [
    "### Below are a few examples of evaluating arithmetic expressions in Python"
   ]
  },
  {
   "cell_type": "markdown",
   "id": "d37cdb98-01e7-48b9-9612-dde049524a9e",
   "metadata": {
    "jupyter": {
     "source_hidden": true
    }
   },
   "source": [
    "This a simple arithmetic expression to mutiply then add integers"
   ]
  },
  {
   "cell_type": "code",
   "execution_count": 1,
   "id": "80104613-b01e-48ab-93a0-34e7dcf58694",
   "metadata": {},
   "outputs": [
    {
     "data": {
      "text/plain": [
       "17"
      ]
     },
     "execution_count": 1,
     "metadata": {},
     "output_type": "execute_result"
    }
   ],
   "source": [
    "(3*4)+5"
   ]
  },
  {
   "cell_type": "markdown",
   "id": "aa379dda-8cf7-40a1-b793-df420d4fca0c",
   "metadata": {},
   "source": [
    "This will convert 200 minutes to hours by dividing by 60"
   ]
  },
  {
   "cell_type": "code",
   "execution_count": 2,
   "id": "72fd1442-cba5-44ff-b08b-fe2e7e2dbab0",
   "metadata": {
    "jupyter": {
     "source_hidden": true
    }
   },
   "outputs": [
    {
     "name": "stdout",
     "output_type": "stream",
     "text": [
      "3.3333333333333335\n"
     ]
    }
   ],
   "source": [
    "hours = 200/60\n",
    "print(hours)"
   ]
  },
  {
   "cell_type": "markdown",
   "id": "c360c899-47ae-4ec0-a887-9966acd2ed14",
   "metadata": {},
   "source": [
    "**Objectives:** \n",
    "List popular languages for Data Science\n",
    " - Python\n",
    " - R\n",
    " - Julia\n",
    " - Scala"
   ]
  },
  {
   "cell_type": "markdown",
   "id": "76fcd7a2-137c-472e-b717-9fda88337505",
   "metadata": {},
   "source": [
    "## Author\n",
    "   Jayanta"
   ]
  }
 ],
 "metadata": {
  "kernelspec": {
   "display_name": "Python 3 (ipykernel)",
   "language": "python",
   "name": "python3"
  },
  "language_info": {
   "codemirror_mode": {
    "name": "ipython",
    "version": 3
   },
   "file_extension": ".py",
   "mimetype": "text/x-python",
   "name": "python",
   "nbconvert_exporter": "python",
   "pygments_lexer": "ipython3",
   "version": "3.12.8"
  }
 },
 "nbformat": 4,
 "nbformat_minor": 5
}
